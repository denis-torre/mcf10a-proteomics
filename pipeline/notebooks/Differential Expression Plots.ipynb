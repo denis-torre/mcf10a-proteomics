{
 "cells": [
  {
   "cell_type": "code",
   "execution_count": 1,
   "metadata": {},
   "outputs": [
    {
     "name": "stderr",
     "output_type": "stream",
     "text": [
      "IOPub data rate exceeded.\n",
      "The notebook server will temporarily stop sending output\n",
      "to the client in order to avoid crashing it.\n",
      "To change this limit, set the config variable\n",
      "`--NotebookApp.iopub_data_rate_limit`.\n"
     ]
    }
   ],
   "source": [
    "# %run /Users/denis/Documents/Projects/scripts/init.ipy\n",
    "%run /Users/maayanlab/Documents/init.ipy\n",
    "os.chdir('../../')"
   ]
  },
  {
   "cell_type": "markdown",
   "metadata": {},
   "source": [
    "### Infiles"
   ]
  },
  {
   "cell_type": "code",
   "execution_count": 2,
   "metadata": {
    "collapsed": true
   },
   "outputs": [],
   "source": [
    "infile = 's1-data.dir/HMS_Datasets-merged_filtered.txt'"
   ]
  },
  {
   "cell_type": "markdown",
   "metadata": {},
   "source": [
    "### Computation"
   ]
  },
  {
   "cell_type": "code",
   "execution_count": 3,
   "metadata": {
    "collapsed": true
   },
   "outputs": [],
   "source": [
    "# Get expression data\n",
    "expression_dataframe = pd.read_table(infile)\n",
    "\n",
    "# Genes\n",
    "genes = [x for x in expression_dataframe.columns if x not in ['DrugName', 'Conc', 'well', 'fraction', 'timepoint'] and 'DAPI' not in x and 'CellMask' not in x and 'MitoTracker' not in x]"
   ]
  },
  {
   "cell_type": "code",
   "execution_count": null,
   "metadata": {},
   "outputs": [
    {
     "name": "stdout",
     "output_type": "stream",
     "text": [
      "Doing ERK-1 (1/19 genes)...\n"
     ]
    },
    {
     "name": "stderr",
     "output_type": "stream",
     "text": [
      "/Users/maayanlab/Documents/Computation/my-venv/lib/python2.7/site-packages/ipykernel_launcher.py:9: SettingWithCopyWarning:\n",
      "\n",
      "\n",
      "A value is trying to be set on a copy of a slice from a DataFrame.\n",
      "Try using .loc[row_indexer,col_indexer] = value instead\n",
      "\n",
      "See the caveats in the documentation: http://pandas.pydata.org/pandas-docs/stable/indexing.html#indexing-view-versus-copy\n",
      "\n",
      "/Users/maayanlab/Documents/Computation/my-venv/lib/python2.7/site-packages/ipykernel_launcher.py:25: PerformanceWarning:\n",
      "\n",
      "indexing past lexsort depth may impact performance.\n",
      "\n",
      "/Users/maayanlab/Documents/Computation/my-venv/lib/python2.7/site-packages/ipykernel_launcher.py:26: PerformanceWarning:\n",
      "\n",
      "indexing past lexsort depth may impact performance.\n",
      "\n"
     ]
    },
    {
     "name": "stdout",
     "output_type": "stream",
     "text": [
      "Doing Cyclin-D1 (2/19 genes)...\n",
      "Doing FOXO3a (3/19 genes)...\n",
      "Doing PCNA (4/19 genes)...\n",
      "Doing KI-67 (5/19 genes)...\n",
      "Doing EGFR (6/19 genes)...\n"
     ]
    }
   ],
   "source": [
    "# Loop through genes\n",
    "for i, gene_symbol in enumerate(genes):\n",
    "    \n",
    "    # Print\n",
    "    print 'Doing '+gene_symbol+' ('+str(i+1)+'/'+str(len(genes))+' genes)...'\n",
    "\n",
    "    # Get expression data\n",
    "    gene_expression_dataframe = expression_dataframe[['DrugName', 'Conc', 'fraction', 'timepoint', gene_symbol]]\n",
    "    gene_expression_dataframe[gene_symbol] = np.log10(expression_dataframe[gene_symbol]+1)\n",
    "\n",
    "    # Get conditions\n",
    "    condition_dataframe = gene_expression_dataframe.drop(gene_symbol, axis=1).drop_duplicates().query('DrugName!=\"DMSO\"').reset_index(drop=True)\n",
    "\n",
    "    # Set index\n",
    "    gene_expression_dataframe.set_index(['DrugName', 'Conc', 'fraction', 'timepoint'], inplace=True)\n",
    "\n",
    "    # Seaborn settings\n",
    "    sns.set_context('poster')\n",
    "    sns.set_style('whitegrid')\n",
    "\n",
    "    # Loop through conditions\n",
    "    for drug_name, concentration, fraction, timepoint in condition_dataframe.as_matrix():\n",
    "\n",
    "        # Get values to compare\n",
    "        treated = [{'Expression (log10)': x, 'Treatment': drug_name} for x in gene_expression_dataframe.loc[drug_name, concentration, fraction, timepoint][gene_symbol]]\n",
    "        untreated = [{'Expression (log10)': x, 'Treatment': 'DMSO'} for x in gene_expression_dataframe.loc['DMSO', 0, fraction, timepoint][gene_symbol]]\n",
    "\n",
    "        # Get dataframe\n",
    "        plot_dataframe = pd.DataFrame(treated+untreated)\n",
    "\n",
    "        # Plot\n",
    "        fig, ax = plt.subplots(figsize=(8.5,6.5))\n",
    "        concentration = str(int(concentration)) if concentration in [1, 10] else concentration\n",
    "        sns_plot = sns.violinplot(data=plot_dataframe, x=\"Treatment\", y=\"Expression (log10)\").get_figure()\n",
    "        plt.title('{gene_symbol} | {fraction} | {concentration}uM, {timepoint}'.format(**locals()))\n",
    "        sns_plot.subplots_adjust(top=0.93)\n",
    "        sns_plot.savefig(\"../mcf10a-cycif-browser/images/differential_expression/{gene_symbol}-{drug_name}-{concentration}-{fraction}-{timepoint}.png\".format(**locals()))\n",
    "        sns_plot.clf()\n",
    "        plt.close()"
   ]
  },
  {
   "cell_type": "code",
   "execution_count": null,
   "metadata": {
    "collapsed": true
   },
   "outputs": [],
   "source": []
  }
 ],
 "metadata": {
  "kernelspec": {
   "display_name": "Python 2",
   "language": "python",
   "name": "python2"
  },
  "language_info": {
   "codemirror_mode": {
    "name": "ipython",
    "version": 2
   },
   "file_extension": ".py",
   "mimetype": "text/x-python",
   "name": "python",
   "nbconvert_exporter": "python",
   "pygments_lexer": "ipython2",
   "version": "2.7.10"
  }
 },
 "nbformat": 4,
 "nbformat_minor": 2
}
