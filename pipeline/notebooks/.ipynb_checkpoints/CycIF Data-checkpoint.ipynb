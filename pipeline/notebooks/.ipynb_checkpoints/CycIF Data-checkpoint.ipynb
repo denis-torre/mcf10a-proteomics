{
 "cells": [
  {
   "cell_type": "code",
   "execution_count": 1,
   "metadata": {},
   "outputs": [
    {
     "name": "stderr",
     "output_type": "stream",
     "text": [
      "IOPub data rate exceeded.\n",
      "The notebook server will temporarily stop sending output\n",
      "to the client in order to avoid crashing it.\n",
      "To change this limit, set the config variable\n",
      "`--NotebookApp.iopub_data_rate_limit`.\n"
     ]
    }
   ],
   "source": [
    "%run /Users/denis/Documents/Projects/scripts/init.ipy\n",
    "os.chdir('../../')"
   ]
  },
  {
   "cell_type": "markdown",
   "metadata": {},
   "source": [
    "### Infile"
   ]
  },
  {
   "cell_type": "code",
   "execution_count": 2,
   "metadata": {
    "collapsed": true
   },
   "outputs": [],
   "source": [
    "infile = 's1-data.dir/HMS_Datasets-merged_filtered.txt'"
   ]
  },
  {
   "cell_type": "markdown",
   "metadata": {},
   "source": [
    "### Computation"
   ]
  },
  {
   "cell_type": "code",
   "execution_count": 3,
   "metadata": {},
   "outputs": [
    {
     "data": {
      "text/html": [
       "<div>\n",
       "<style>\n",
       "    .dataframe thead tr:only-child th {\n",
       "        text-align: right;\n",
       "    }\n",
       "\n",
       "    .dataframe thead th {\n",
       "        text-align: left;\n",
       "    }\n",
       "\n",
       "    .dataframe tbody tr th {\n",
       "        vertical-align: top;\n",
       "    }\n",
       "</style>\n",
       "<table border=\"1\" class=\"dataframe\">\n",
       "  <thead>\n",
       "    <tr style=\"text-align: right;\">\n",
       "      <th></th>\n",
       "      <th>DrugName</th>\n",
       "      <th>Conc</th>\n",
       "      <th>well</th>\n",
       "      <th>ERK-1</th>\n",
       "      <th>Cyclin-D1</th>\n",
       "      <th>FOXO3a</th>\n",
       "      <th>PCNA</th>\n",
       "      <th>MitoTracker Green</th>\n",
       "      <th>KI-67</th>\n",
       "      <th>EGFR</th>\n",
       "      <th>...</th>\n",
       "      <th>DAPI_0005</th>\n",
       "      <th>p53</th>\n",
       "      <th>p21</th>\n",
       "      <th>p27Kip1</th>\n",
       "      <th>S6</th>\n",
       "      <th>H2A.X</th>\n",
       "      <th>Cyclin-E1</th>\n",
       "      <th>HCS CellMask Deep Red</th>\n",
       "      <th>fraction</th>\n",
       "      <th>timepoint</th>\n",
       "    </tr>\n",
       "  </thead>\n",
       "  <tbody>\n",
       "    <tr>\n",
       "      <th>0</th>\n",
       "      <td>Dasatinib</td>\n",
       "      <td>0.1</td>\n",
       "      <td>B02</td>\n",
       "      <td>243.525</td>\n",
       "      <td>185.080</td>\n",
       "      <td>381.770</td>\n",
       "      <td>259.440</td>\n",
       "      <td>2223.205</td>\n",
       "      <td>304.040</td>\n",
       "      <td>877.445</td>\n",
       "      <td>...</td>\n",
       "      <td>778.380</td>\n",
       "      <td>331.180</td>\n",
       "      <td>144.830</td>\n",
       "      <td>159.245</td>\n",
       "      <td>829.340</td>\n",
       "      <td>130.130</td>\n",
       "      <td>110.030</td>\n",
       "      <td>1752.890</td>\n",
       "      <td>cytosolic</td>\n",
       "      <td>24h</td>\n",
       "    </tr>\n",
       "    <tr>\n",
       "      <th>1</th>\n",
       "      <td>Dasatinib</td>\n",
       "      <td>0.1</td>\n",
       "      <td>B02</td>\n",
       "      <td>238.844</td>\n",
       "      <td>242.560</td>\n",
       "      <td>425.541</td>\n",
       "      <td>320.890</td>\n",
       "      <td>2404.674</td>\n",
       "      <td>202.830</td>\n",
       "      <td>173.193</td>\n",
       "      <td>...</td>\n",
       "      <td>835.101</td>\n",
       "      <td>263.454</td>\n",
       "      <td>147.688</td>\n",
       "      <td>224.404</td>\n",
       "      <td>171.252</td>\n",
       "      <td>99.000</td>\n",
       "      <td>167.349</td>\n",
       "      <td>2719.784</td>\n",
       "      <td>cytosolic</td>\n",
       "      <td>24h</td>\n",
       "    </tr>\n",
       "    <tr>\n",
       "      <th>2</th>\n",
       "      <td>Dasatinib</td>\n",
       "      <td>0.1</td>\n",
       "      <td>B02</td>\n",
       "      <td>481.327</td>\n",
       "      <td>294.827</td>\n",
       "      <td>509.228</td>\n",
       "      <td>437.327</td>\n",
       "      <td>5545.748</td>\n",
       "      <td>374.733</td>\n",
       "      <td>1657.381</td>\n",
       "      <td>...</td>\n",
       "      <td>1123.842</td>\n",
       "      <td>431.223</td>\n",
       "      <td>160.381</td>\n",
       "      <td>169.168</td>\n",
       "      <td>1194.530</td>\n",
       "      <td>129.104</td>\n",
       "      <td>135.401</td>\n",
       "      <td>4682.267</td>\n",
       "      <td>cytosolic</td>\n",
       "      <td>24h</td>\n",
       "    </tr>\n",
       "    <tr>\n",
       "      <th>3</th>\n",
       "      <td>Dasatinib</td>\n",
       "      <td>0.1</td>\n",
       "      <td>B02</td>\n",
       "      <td>406.365</td>\n",
       "      <td>429.595</td>\n",
       "      <td>805.340</td>\n",
       "      <td>1831.930</td>\n",
       "      <td>5418.895</td>\n",
       "      <td>2579.835</td>\n",
       "      <td>3775.655</td>\n",
       "      <td>...</td>\n",
       "      <td>1446.610</td>\n",
       "      <td>906.585</td>\n",
       "      <td>178.665</td>\n",
       "      <td>296.690</td>\n",
       "      <td>3860.970</td>\n",
       "      <td>169.585</td>\n",
       "      <td>170.150</td>\n",
       "      <td>7472.670</td>\n",
       "      <td>cytosolic</td>\n",
       "      <td>24h</td>\n",
       "    </tr>\n",
       "    <tr>\n",
       "      <th>4</th>\n",
       "      <td>Dasatinib</td>\n",
       "      <td>0.1</td>\n",
       "      <td>B02</td>\n",
       "      <td>384.828</td>\n",
       "      <td>342.138</td>\n",
       "      <td>619.287</td>\n",
       "      <td>501.201</td>\n",
       "      <td>7016.862</td>\n",
       "      <td>326.063</td>\n",
       "      <td>1271.431</td>\n",
       "      <td>...</td>\n",
       "      <td>1558.218</td>\n",
       "      <td>569.937</td>\n",
       "      <td>196.937</td>\n",
       "      <td>215.598</td>\n",
       "      <td>993.557</td>\n",
       "      <td>154.293</td>\n",
       "      <td>181.690</td>\n",
       "      <td>3883.621</td>\n",
       "      <td>cytosolic</td>\n",
       "      <td>24h</td>\n",
       "    </tr>\n",
       "  </tbody>\n",
       "</table>\n",
       "<p>5 rows × 33 columns</p>\n",
       "</div>"
      ],
      "text/plain": [
       "    DrugName  Conc well    ERK-1  Cyclin-D1   FOXO3a      PCNA  \\\n",
       "0  Dasatinib   0.1  B02  243.525    185.080  381.770   259.440   \n",
       "1  Dasatinib   0.1  B02  238.844    242.560  425.541   320.890   \n",
       "2  Dasatinib   0.1  B02  481.327    294.827  509.228   437.327   \n",
       "3  Dasatinib   0.1  B02  406.365    429.595  805.340  1831.930   \n",
       "4  Dasatinib   0.1  B02  384.828    342.138  619.287   501.201   \n",
       "\n",
       "   MitoTracker Green     KI-67      EGFR    ...      DAPI_0005      p53  \\\n",
       "0           2223.205   304.040   877.445    ...        778.380  331.180   \n",
       "1           2404.674   202.830   173.193    ...        835.101  263.454   \n",
       "2           5545.748   374.733  1657.381    ...       1123.842  431.223   \n",
       "3           5418.895  2579.835  3775.655    ...       1446.610  906.585   \n",
       "4           7016.862   326.063  1271.431    ...       1558.218  569.937   \n",
       "\n",
       "       p21  p27Kip1        S6    H2A.X  Cyclin-E1  HCS CellMask Deep Red  \\\n",
       "0  144.830  159.245   829.340  130.130    110.030               1752.890   \n",
       "1  147.688  224.404   171.252   99.000    167.349               2719.784   \n",
       "2  160.381  169.168  1194.530  129.104    135.401               4682.267   \n",
       "3  178.665  296.690  3860.970  169.585    170.150               7472.670   \n",
       "4  196.937  215.598   993.557  154.293    181.690               3883.621   \n",
       "\n",
       "    fraction  timepoint  \n",
       "0  cytosolic        24h  \n",
       "1  cytosolic        24h  \n",
       "2  cytosolic        24h  \n",
       "3  cytosolic        24h  \n",
       "4  cytosolic        24h  \n",
       "\n",
       "[5 rows x 33 columns]"
      ]
     },
     "execution_count": 3,
     "metadata": {},
     "output_type": "execute_result"
    }
   ],
   "source": [
    "# Get expression data\n",
    "expression_dataframe = pd.read_table(infile)\n",
    "expression_dataframe.head()"
   ]
  },
  {
   "cell_type": "markdown",
   "metadata": {},
   "source": [
    "##### Drugs"
   ]
  },
  {
   "cell_type": "code",
   "execution_count": 21,
   "metadata": {},
   "outputs": [
    {
     "data": {
      "text/html": [
       "<div>\n",
       "<style>\n",
       "    .dataframe thead tr:only-child th {\n",
       "        text-align: right;\n",
       "    }\n",
       "\n",
       "    .dataframe thead th {\n",
       "        text-align: left;\n",
       "    }\n",
       "\n",
       "    .dataframe tbody tr th {\n",
       "        vertical-align: top;\n",
       "    }\n",
       "</style>\n",
       "<table border=\"1\" class=\"dataframe\">\n",
       "  <thead>\n",
       "    <tr style=\"text-align: right;\">\n",
       "      <th></th>\n",
       "      <th>label</th>\n",
       "      <th>len</th>\n",
       "      <th>id</th>\n",
       "      <th>color</th>\n",
       "    </tr>\n",
       "  </thead>\n",
       "  <tbody>\n",
       "    <tr>\n",
       "      <th>0</th>\n",
       "      <td>Alpelisib</td>\n",
       "      <td>21</td>\n",
       "      <td>alpelisib</td>\n",
       "      <td>#8dd3c7</td>\n",
       "    </tr>\n",
       "    <tr>\n",
       "      <th>1</th>\n",
       "      <td>Dasatinib</td>\n",
       "      <td>21</td>\n",
       "      <td>dasatinib</td>\n",
       "      <td>#ffffb3</td>\n",
       "    </tr>\n",
       "    <tr>\n",
       "      <th>2</th>\n",
       "      <td>Etoposide</td>\n",
       "      <td>21</td>\n",
       "      <td>etoposide</td>\n",
       "      <td>#bebada</td>\n",
       "    </tr>\n",
       "    <tr>\n",
       "      <th>3</th>\n",
       "      <td>Neratinib</td>\n",
       "      <td>21</td>\n",
       "      <td>neratinib</td>\n",
       "      <td>#fb8072</td>\n",
       "    </tr>\n",
       "    <tr>\n",
       "      <th>4</th>\n",
       "      <td>Paclitaxel</td>\n",
       "      <td>21</td>\n",
       "      <td>paclitaxel</td>\n",
       "      <td>#80b1d3</td>\n",
       "    </tr>\n",
       "    <tr>\n",
       "      <th>5</th>\n",
       "      <td>Palbociclib</td>\n",
       "      <td>21</td>\n",
       "      <td>palbociclib</td>\n",
       "      <td>#fdb462</td>\n",
       "    </tr>\n",
       "    <tr>\n",
       "      <th>6</th>\n",
       "      <td>Trametinib</td>\n",
       "      <td>21</td>\n",
       "      <td>trametinib</td>\n",
       "      <td>#b3de69</td>\n",
       "    </tr>\n",
       "    <tr>\n",
       "      <th>7</th>\n",
       "      <td>Vorinostat</td>\n",
       "      <td>21</td>\n",
       "      <td>vorinostat</td>\n",
       "      <td>#fccde5</td>\n",
       "    </tr>\n",
       "  </tbody>\n",
       "</table>\n",
       "</div>"
      ],
      "text/plain": [
       "         label  len           id    color\n",
       "0    Alpelisib   21    alpelisib  #8dd3c7\n",
       "1    Dasatinib   21    dasatinib  #ffffb3\n",
       "2    Etoposide   21    etoposide  #bebada\n",
       "3    Neratinib   21    neratinib  #fb8072\n",
       "4   Paclitaxel   21   paclitaxel  #80b1d3\n",
       "5  Palbociclib   21  palbociclib  #fdb462\n",
       "6   Trametinib   21   trametinib  #b3de69\n",
       "7   Vorinostat   21   vorinostat  #fccde5"
      ]
     },
     "execution_count": 21,
     "metadata": {},
     "output_type": "execute_result"
    }
   ],
   "source": [
    "drug_dataframe = expression_dataframe[['DrugName', 'Conc', 'timepoint']].drop_duplicates().query('DrugName!=\"DMSO\"').groupby('DrugName').size().rename('len').to_frame()#.to_dict(orient='records')\n",
    "drug_dataframe.index.name = 'label'\n",
    "drug_dataframe.reset_index(inplace=True)\n",
    "drug_dataframe['id'] = [x.lower() for x in drug_dataframe['label']]\n",
    "drug_dataframe['color'] = ['#8dd3c7', '#ffffb3', '#bebada', '#fb8072', '#80b1d3', '#fdb462', '#b3de69', '#fccde5']\n",
    "drug_dataframe.sort_values('label', inplace=True)\n",
    "drug_dataframe"
   ]
  },
  {
   "cell_type": "code",
   "execution_count": 22,
   "metadata": {
    "collapsed": true
   },
   "outputs": [],
   "source": [
    "with open('../mcf10a-cycif-browser/data/drugs.json', 'w') as openfile:\n",
    "    openfile.write(json.dumps(drug_dataframe.to_dict(orient='records'), indent=4, separators=(',', ': ')))"
   ]
  },
  {
   "cell_type": "markdown",
   "metadata": {},
   "source": [
    "##### CSV"
   ]
  },
  {
   "cell_type": "code",
   "execution_count": 37,
   "metadata": {
    "collapsed": true
   },
   "outputs": [],
   "source": [
    "infiles = glob.glob('s2-differential_expression.dir/*')"
   ]
  },
  {
   "cell_type": "code",
   "execution_count": 39,
   "metadata": {},
   "outputs": [],
   "source": [
    "for infile in infiles:\n",
    "    differential_expression_dataframe = pd.read_table(infile)\n",
    "    for fraction in ['cytosolic', 'nuclear']:\n",
    "        fraction_dataframe = differential_expression_dataframe[differential_expression_dataframe['fraction'] == fraction].sort_values(['drug_name', 'timepoint', 'concentration']).reset_index(drop=True)\n",
    "        fraction_dataframe['start'] = fraction_dataframe.index+1\n",
    "        fraction_dataframe['end'] = fraction_dataframe.index+2\n",
    "    fraction_dataframe.to_csv(infile.replace('s2-differential_expression.dir/', '../mcf10a-cycif-browser/data/differential_expression/').replace('.txt', '_'+fraction+'.txt'))"
   ]
  },
  {
   "cell_type": "code",
   "execution_count": 35,
   "metadata": {},
   "outputs": [
    {
     "data": {
      "text/plain": [
       "'s2-differential_expression.dir/PCNA-differential_expression.txt'"
      ]
     },
     "execution_count": 35,
     "metadata": {},
     "output_type": "execute_result"
    }
   ],
   "source": [
    "infile"
   ]
  },
  {
   "cell_type": "code",
   "execution_count": null,
   "metadata": {
    "collapsed": true
   },
   "outputs": [],
   "source": []
  }
 ],
 "metadata": {
  "kernelspec": {
   "display_name": "Python 2",
   "language": "python",
   "name": "python2"
  },
  "language_info": {
   "codemirror_mode": {
    "name": "ipython",
    "version": 2
   },
   "file_extension": ".py",
   "mimetype": "text/x-python",
   "name": "python",
   "nbconvert_exporter": "python",
   "pygments_lexer": "ipython2",
   "version": "2.7.10"
  }
 },
 "nbformat": 4,
 "nbformat_minor": 2
}
