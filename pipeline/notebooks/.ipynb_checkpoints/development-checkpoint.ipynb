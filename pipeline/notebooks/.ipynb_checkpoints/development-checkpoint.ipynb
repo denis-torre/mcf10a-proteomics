{
 "cells": [
  {
   "cell_type": "code",
   "execution_count": 1,
   "metadata": {},
   "outputs": [
    {
     "name": "stderr",
     "output_type": "stream",
     "text": [
      "IOPub data rate exceeded.\n",
      "The notebook server will temporarily stop sending output\n",
      "to the client in order to avoid crashing it.\n",
      "To change this limit, set the config variable\n",
      "`--NotebookApp.iopub_data_rate_limit`.\n"
     ]
    }
   ],
   "source": [
    "%run /Users/denis/Documents/Projects/scripts/init.ipy\n",
    "os.chdir('../../')"
   ]
  },
  {
   "cell_type": "markdown",
   "metadata": {},
   "source": [
    "### Infiles"
   ]
  },
  {
   "cell_type": "code",
   "execution_count": 4,
   "metadata": {
    "collapsed": true
   },
   "outputs": [],
   "source": [
    "infile = 's1-data.dir/HMS_Datasets-merged_filtered.txt'\n",
    "outfile = 's3-differential_expression_plots.dir'"
   ]
  },
  {
   "cell_type": "markdown",
   "metadata": {},
   "source": [
    "### Computation\n"
   ]
  },
  {
   "cell_type": "code",
   "execution_count": 8,
   "metadata": {},
   "outputs": [
    {
     "data": {
      "text/plain": [
       "'HCS CellMask Deep Red'"
      ]
     },
     "execution_count": 8,
     "metadata": {},
     "output_type": "execute_result"
    }
   ],
   "source": [
    "# Get gene symbol\n",
    "gene_symbol = os.path.basename(outfile)[:-len('-differential_expression.txt')].replace('_', ' ')\n",
    "gene_symbol\n",
    "\n",
    "# Get expression data\n",
    "expression_dataframe = pd.read_table(infile)[['DrugName', 'Conc', 'fraction', 'timepoint', gene_symbol]]\n",
    "expression_dataframe[gene_symbol] = np.log10(expression_dataframe[gene_symbol]+1)\n",
    "\n",
    "# Get conditions\n",
    "condition_dataframe = expression_dataframe.drop(gene_symbol, axis=1).drop_duplicates().query('DrugName!=\"DMSO\"').reset_index(drop=True)\n",
    "\n",
    "# Set index\n",
    "expression_dataframe.set_index(['DrugName', 'Conc', 'fraction', 'timepoint'], inplace=True)\n",
    "\n",
    "# Seaborn settings\n",
    "sns.set_context('paper')\n",
    "sns.set_style('whitegrid')\n",
    "\n",
    "# Loop through conditions\n",
    "for drug_name, concentration, fraction, timepoint in condition_dataframe.head(5).as_matrix():\n",
    "    \n",
    "    # Get values to compare\n",
    "    treated = [{'Expression (log10)': x, 'Treatment': drug_name} for x in expression_dataframe.loc[drug_name, concentration, fraction, timepoint][gene_symbol]]\n",
    "    untreated = [{'Expression (log10)': x, 'Treatment': 'DMSO'} for x in expression_dataframe.loc['DMSO', 0, fraction, timepoint][gene_symbol]]\n",
    "    \n",
    "    # Get dataframe\n",
    "    plot_dataframe = pd.DataFrame(treated+untreated)\n",
    "    \n",
    "    # Plot\n",
    "    fig, ax = plt.subplots(figsize=(5,5))\n",
    "    sns_plot = sns.violinplot(data=plot_dataframe, x=\"Treatment\", y=\"Expression (log10)\").get_figure()\n",
    "    plt.title('{gene_symbol}\\nin {fraction} fraction, {timepoint}'.format(**locals()))\n",
    "    sns_plot.savefig(\"{gene_symbol}-{drug_name}-{concentration}-{fraction}-{timepoint}.pdf\".format(**locals()))\n",
    "    sns_plot.clf()"
   ]
  },
  {
   "cell_type": "code",
   "execution_count": null,
   "metadata": {
    "collapsed": true
   },
   "outputs": [],
   "source": [
    "s"
   ]
  }
 ],
 "metadata": {
  "kernelspec": {
   "display_name": "Python 2",
   "language": "python",
   "name": "python2"
  },
  "language_info": {
   "codemirror_mode": {
    "name": "ipython",
    "version": 2
   },
   "file_extension": ".py",
   "mimetype": "text/x-python",
   "name": "python",
   "nbconvert_exporter": "python",
   "pygments_lexer": "ipython2",
   "version": "2.7.10"
  }
 },
 "nbformat": 4,
 "nbformat_minor": 2
}
